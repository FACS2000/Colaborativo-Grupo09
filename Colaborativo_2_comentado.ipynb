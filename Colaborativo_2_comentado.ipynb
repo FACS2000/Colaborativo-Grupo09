{
  "nbformat": 4,
  "nbformat_minor": 0,
  "metadata": {
    "colab": {
      "provenance": []
    },
    "kernelspec": {
      "name": "python3",
      "display_name": "Python 3"
    },
    "language_info": {
      "name": "python"
    }
  },
  "cells": [
    {
      "cell_type": "code",
      "execution_count": null,
      "metadata": {
        "colab": {
          "base_uri": "https://localhost:8080/"
        },
        "id": "43bPF31N-AMo",
        "outputId": "cc48d093-1714-40d3-f324-9ea6707b07df"
      },
      "outputs": [
        {
          "output_type": "stream",
          "name": "stdout",
          "text": [
            "Requirement already satisfied: pyspark in /usr/local/lib/python3.10/dist-packages (3.5.0)\n",
            "Requirement already satisfied: py4j==0.10.9.7 in /usr/local/lib/python3.10/dist-packages (from pyspark) (0.10.9.7)\n"
          ]
        }
      ],
      "source": [
        "# instalar la biblioteca PySpark.\n",
        "!pip install pyspark"
      ]
    },
    {
      "cell_type": "code",
      "source": [
        "# Crear una sesion en PySpark.\n",
        "from pyspark.sql import SparkSession\n",
        "# Construir una nueva sesión\n",
        "spark = SparkSession.builder\\\n",
        "        .master(\"local\")\\\n",
        "        .appName(\"Colab\")\\\n",
        "        .config('spark.ui.port', '4050')\\\n",
        "        .getOrCreate()\n",
        "\n",
        "spark\n",
        "# master(\"local\") -> Ejecutarse de manera local\n",
        "# appName(\"Colab\")-> Establece un nombre\n",
        "# config('spark.ui.port', '4050') -> Configuración del puerto para la interfaz de usuario de Spark\n",
        "# getOrCreate() -> Crea la sesión o devuelve una existente"
      ],
      "metadata": {
        "colab": {
          "base_uri": "https://localhost:8080/",
          "height": 219
        },
        "id": "kqJH9SCE_lpI",
        "outputId": "cf6b47bf-8c6d-4ef7-d2d1-5e8b20daa3c5"
      },
      "execution_count": null,
      "outputs": [
        {
          "output_type": "execute_result",
          "data": {
            "text/plain": [
              "<pyspark.sql.session.SparkSession at 0x7f7e2838cfd0>"
            ],
            "text/html": [
              "\n",
              "            <div>\n",
              "                <p><b>SparkSession - in-memory</b></p>\n",
              "                \n",
              "        <div>\n",
              "            <p><b>SparkContext</b></p>\n",
              "\n",
              "            <p><a href=\"http://7c402795f213:4050\">Spark UI</a></p>\n",
              "\n",
              "            <dl>\n",
              "              <dt>Version</dt>\n",
              "                <dd><code>v3.5.0</code></dd>\n",
              "              <dt>Master</dt>\n",
              "                <dd><code>local</code></dd>\n",
              "              <dt>AppName</dt>\n",
              "                <dd><code>Colab</code></dd>\n",
              "            </dl>\n",
              "        </div>\n",
              "        \n",
              "            </div>\n",
              "        "
            ]
          },
          "metadata": {},
          "execution_count": 55
        }
      ]
    },
    {
      "cell_type": "code",
      "source": [
        "from google.colab import drive\n",
        "drive.mount('/content/drive')"
      ],
      "metadata": {
        "colab": {
          "base_uri": "https://localhost:8080/"
        },
        "id": "5yyF8SNYC6j5",
        "outputId": "908f7786-512b-4a98-96cd-00c2ef95359a"
      },
      "execution_count": null,
      "outputs": [
        {
          "output_type": "stream",
          "name": "stdout",
          "text": [
            "Drive already mounted at /content/drive; to attempt to forcibly remount, call drive.mount(\"/content/drive\", force_remount=True).\n"
          ]
        }
      ]
    },
    {
      "cell_type": "code",
      "source": [
        "# Leer un archivo CSV\n",
        "df = spark.read.format(\"csv\").load(\"/content/drive/MyDrive/housing.csv\", header=True, inferSchema=True)\n",
        "\n",
        "# Descripción de la estructura de los datos\n",
        "df.printSchema()"
      ],
      "metadata": {
        "colab": {
          "base_uri": "https://localhost:8080/"
        },
        "id": "Qr_A-o9yAkHg",
        "outputId": "17312b94-b3b3-4f5a-d9ed-743f7443a853"
      },
      "execution_count": null,
      "outputs": [
        {
          "output_type": "stream",
          "name": "stdout",
          "text": [
            "root\n",
            " |-- longitude: double (nullable = true)\n",
            " |-- latitude: double (nullable = true)\n",
            " |-- housing_median_age: double (nullable = true)\n",
            " |-- total_rooms: double (nullable = true)\n",
            " |-- total_bedrooms: double (nullable = true)\n",
            " |-- population: double (nullable = true)\n",
            " |-- households: double (nullable = true)\n",
            " |-- median_income: double (nullable = true)\n",
            " |-- median_house_value: double (nullable = true)\n",
            " |-- ocean_proximity: string (nullable = true)\n",
            "\n"
          ]
        }
      ]
    },
    {
      "cell_type": "code",
      "source": [
        "# Visualizar las primeras 5 primeras filas del DataFrame\n",
        "df.show(5)"
      ],
      "metadata": {
        "id": "EagnANC7Bbiv",
        "colab": {
          "base_uri": "https://localhost:8080/"
        },
        "outputId": "46cbe8b7-bb8d-490f-8d4b-10e98abf931d"
      },
      "execution_count": null,
      "outputs": [
        {
          "output_type": "stream",
          "name": "stdout",
          "text": [
            "+---------+--------+------------------+-----------+--------------+----------+----------+-------------+------------------+---------------+\n",
            "|longitude|latitude|housing_median_age|total_rooms|total_bedrooms|population|households|median_income|median_house_value|ocean_proximity|\n",
            "+---------+--------+------------------+-----------+--------------+----------+----------+-------------+------------------+---------------+\n",
            "|  -122.23|   37.88|              41.0|      880.0|         129.0|     322.0|     126.0|       8.3252|          452600.0|       NEAR BAY|\n",
            "|  -122.22|   37.86|              21.0|     7099.0|        1106.0|    2401.0|    1138.0|       8.3014|          358500.0|       NEAR BAY|\n",
            "|  -122.24|   37.85|              52.0|     1467.0|         190.0|     496.0|     177.0|       7.2574|          352100.0|       NEAR BAY|\n",
            "|  -122.25|   37.85|              52.0|     1274.0|         235.0|     558.0|     219.0|       5.6431|          341300.0|       NEAR BAY|\n",
            "|  -122.25|   37.85|              52.0|     1627.0|         280.0|     565.0|     259.0|       3.8462|          342200.0|       NEAR BAY|\n",
            "+---------+--------+------------------+-----------+--------------+----------+----------+-------------+------------------+---------------+\n",
            "only showing top 5 rows\n",
            "\n"
          ]
        }
      ]
    },
    {
      "cell_type": "code",
      "source": [
        "# Libreria para generar un numero unico para cada fila\n",
        "from pyspark.sql.functions import monotonically_increasing_id\n",
        "\n",
        "# Añadir una nueva columna llamada id\n",
        "df = df.withColumn('id', monotonically_increasing_id())\n",
        "\n",
        "# Reordenar las columnas\n",
        "df = df[['id'] + df.columns[:-1]]\n",
        "\n",
        "# Visualizar las primeras 3 primeras filas del DataFrame\n",
        "df.show(3)"
      ],
      "metadata": {
        "id": "U4b8uF6RBkDA",
        "colab": {
          "base_uri": "https://localhost:8080/"
        },
        "outputId": "6ef3218d-19ce-4181-959c-b66fc6c8cb1c"
      },
      "execution_count": null,
      "outputs": [
        {
          "output_type": "stream",
          "name": "stdout",
          "text": [
            "+---+---------+--------+------------------+-----------+--------------+----------+----------+-------------+------------------+---------------+\n",
            "| id|longitude|latitude|housing_median_age|total_rooms|total_bedrooms|population|households|median_income|median_house_value|ocean_proximity|\n",
            "+---+---------+--------+------------------+-----------+--------------+----------+----------+-------------+------------------+---------------+\n",
            "|  0|  -122.23|   37.88|              41.0|      880.0|         129.0|     322.0|     126.0|       8.3252|          452600.0|       NEAR BAY|\n",
            "|  1|  -122.22|   37.86|              21.0|     7099.0|        1106.0|    2401.0|    1138.0|       8.3014|          358500.0|       NEAR BAY|\n",
            "|  2|  -122.24|   37.85|              52.0|     1467.0|         190.0|     496.0|     177.0|       7.2574|          352100.0|       NEAR BAY|\n",
            "+---+---------+--------+------------------+-----------+--------------+----------+----------+-------------+------------------+---------------+\n",
            "only showing top 3 rows\n",
            "\n"
          ]
        }
      ]
    },
    {
      "cell_type": "code",
      "source": [
        "# Número total de filas\n",
        "df.count()"
      ],
      "metadata": {
        "id": "WqtixMLOB6gb",
        "colab": {
          "base_uri": "https://localhost:8080/"
        },
        "outputId": "66ae9833-a34b-4780-96ed-ce516edf1bfb"
      },
      "execution_count": null,
      "outputs": [
        {
          "output_type": "execute_result",
          "data": {
            "text/plain": [
              "20640"
            ]
          },
          "metadata": {},
          "execution_count": 60
        }
      ]
    },
    {
      "cell_type": "code",
      "source": [
        "# Descripción de la estructura de los datos\n",
        "df.printSchema()"
      ],
      "metadata": {
        "id": "hcZrRuZY2XA5",
        "colab": {
          "base_uri": "https://localhost:8080/"
        },
        "outputId": "c142a31d-4ba4-42bc-a462-5078f7ea32a8"
      },
      "execution_count": null,
      "outputs": [
        {
          "output_type": "stream",
          "name": "stdout",
          "text": [
            "root\n",
            " |-- id: long (nullable = false)\n",
            " |-- longitude: double (nullable = true)\n",
            " |-- latitude: double (nullable = true)\n",
            " |-- housing_median_age: double (nullable = true)\n",
            " |-- total_rooms: double (nullable = true)\n",
            " |-- total_bedrooms: double (nullable = true)\n",
            " |-- population: double (nullable = true)\n",
            " |-- households: double (nullable = true)\n",
            " |-- median_income: double (nullable = true)\n",
            " |-- median_house_value: double (nullable = true)\n",
            " |-- ocean_proximity: string (nullable = true)\n",
            "\n"
          ]
        }
      ]
    },
    {
      "cell_type": "code",
      "source": [
        "# Asignar las columnas del DataFrame a numerical_features_lst\n",
        "numerical_features_lst = df.columns\n",
        "\n",
        "# Eliminar las columnas irrelevantes\n",
        "numerical_features_lst.remove('median_house_value') # -> Variable objetivo\n",
        "numerical_features_lst.remove('id')\n",
        "numerical_features_lst.remove('ocean_proximity')\n",
        "numerical_features_lst.remove('longitude')\n",
        "numerical_features_lst.remove('latitude')\n",
        "\n",
        "# Columnas para el analisis\n",
        "numerical_features_lst"
      ],
      "metadata": {
        "id": "Ci6XrrGi6n99",
        "colab": {
          "base_uri": "https://localhost:8080/"
        },
        "outputId": "bb548036-d87a-4882-d1f0-f8a0ad4ad445"
      },
      "execution_count": null,
      "outputs": [
        {
          "output_type": "execute_result",
          "data": {
            "text/plain": [
              "['housing_median_age',\n",
              " 'total_rooms',\n",
              " 'total_bedrooms',\n",
              " 'population',\n",
              " 'households',\n",
              " 'median_income']"
            ]
          },
          "metadata": {},
          "execution_count": 62
        }
      ]
    },
    {
      "cell_type": "code",
      "source": [
        "# Importar funciones mean, sum, avg, max y count\n",
        "from pyspark.sql.functions import mean, sum,avg,max,count\n",
        "\n",
        "# Calcular el promedio de cada columna de numerical_features_lst\n",
        "df.select(*[mean(c) for c in numerical_features_lst]).show()"
      ],
      "metadata": {
        "id": "tqrm-bsMDEeG",
        "colab": {
          "base_uri": "https://localhost:8080/"
        },
        "outputId": "0e5d7a10-d741-4f20-f69c-4748192e9ffb"
      },
      "execution_count": null,
      "outputs": [
        {
          "output_type": "stream",
          "name": "stdout",
          "text": [
            "+-----------------------+------------------+-------------------+------------------+-----------------+------------------+\n",
            "|avg(housing_median_age)|  avg(total_rooms)|avg(total_bedrooms)|   avg(population)|  avg(households)|avg(median_income)|\n",
            "+-----------------------+------------------+-------------------+------------------+-----------------+------------------+\n",
            "|     28.639486434108527|2635.7630813953488|  537.8705525375618|1425.4767441860465|499.5396802325581|3.8706710029070246|\n",
            "+-----------------------+------------------+-------------------+------------------+-----------------+------------------+\n",
            "\n"
          ]
        }
      ]
    },
    {
      "cell_type": "code",
      "source": [
        "# La suma total de las columnas agrupados por ocean_proximity\n",
        "df.groupBy(\"ocean_proximity\").agg({col: 'sum' for col in numerical_features_lst}).show(truncate=False)"
      ],
      "metadata": {
        "id": "3zAXRfTb8ilU",
        "colab": {
          "base_uri": "https://localhost:8080/"
        },
        "outputId": "cac8e826-03f4-4c19-aa53-4c89171322ae"
      },
      "execution_count": null,
      "outputs": [
        {
          "output_type": "stream",
          "name": "stdout",
          "text": [
            "+---------------+---------------+---------------+-------------------+------------------+----------------+-----------------------+\n",
            "|ocean_proximity|sum(households)|sum(population)|sum(total_bedrooms)|sum(median_income)|sum(total_rooms)|sum(housing_median_age)|\n",
            "+---------------+---------------+---------------+-------------------+------------------+----------------+-----------------------+\n",
            "|ISLAND         |1383.0         |3340.0         |2102.0             |13.722100000000001|7873.0          |212.0                  |\n",
            "|NEAR OCEAN     |1332308.0      |3598955.0      |1415482.0          |10647.376000000002|6867477.0       |78005.0                |\n",
            "|NEAR BAY       |1118931.0      |2817427.0      |1167195.0          |9555.906100000018 |5710320.0       |86402.0                |\n",
            "|<1H OCEAN      |4730118.0      |1.3889374E7    |4937435.0          |38651.509999999995|2.4012547E7     |267495.0               |\n",
            "|INLAND         |3127759.0      |9112744.0      |3468095.0          |21022.135299999973|1.7803933E7     |159005.0               |\n",
            "+---------------+---------------+---------------+-------------------+------------------+----------------+-----------------------+\n",
            "\n"
          ]
        }
      ]
    },
    {
      "cell_type": "code",
      "source": [
        "# El promedio total de las columnas agrupados por ocean_proximity\n",
        "df.groupby('ocean_proximity').agg({col: 'avg' for col in numerical_features_lst}).show()"
      ],
      "metadata": {
        "id": "CvY5tzwDEMsC",
        "colab": {
          "base_uri": "https://localhost:8080/"
        },
        "outputId": "b9ed6a4b-bace-486e-d080-039236985adb"
      },
      "execution_count": null,
      "outputs": [
        {
          "output_type": "stream",
          "name": "stdout",
          "text": [
            "+---------------+------------------+------------------+-------------------+------------------+------------------+-----------------------+\n",
            "|ocean_proximity|   avg(households)|   avg(population)|avg(total_bedrooms)|avg(median_income)|  avg(total_rooms)|avg(housing_median_age)|\n",
            "+---------------+------------------+------------------+-------------------+------------------+------------------+-----------------------+\n",
            "|         ISLAND|             276.6|             668.0|              420.4|2.7444200000000003|            1574.6|                   42.4|\n",
            "|     NEAR OCEAN|501.24454477050415|1354.0086531226486|  538.6156773211568| 4.005784800601957| 2583.700902934537|     29.347253574115875|\n",
            "|       NEAR BAY| 488.6161572052402|1230.3174672489083|  514.1828193832599| 4.172884759825336| 2493.589519650655|      37.73013100436681|\n",
            "|      <1H OCEAN| 517.7449649737302|1520.2904991243433|  546.5391852999778|4.2306819176882655|2628.3435858143607|     29.279225043782837|\n",
            "|         INLAND|477.44756525721266|1391.0462524805373|  533.8816194581281| 3.208996382231716|2717.7427873607085|      24.27186689055106|\n",
            "+---------------+------------------+------------------+-------------------+------------------+------------------+-----------------------+\n",
            "\n"
          ]
        }
      ]
    },
    {
      "cell_type": "code",
      "source": [
        "# El maximo valor de las columnas agrupados por ocean_proximity\n",
        "df.groupby('ocean_proximity').agg({col: 'max' for col in numerical_features_lst}).show()"
      ],
      "metadata": {
        "id": "xnBvjIen-nWR",
        "colab": {
          "base_uri": "https://localhost:8080/"
        },
        "outputId": "a9524081-bd4e-483b-d0fd-723c13fb6c89"
      },
      "execution_count": null,
      "outputs": [
        {
          "output_type": "stream",
          "name": "stdout",
          "text": [
            "+---------------+---------------+---------------+-------------------+------------------+----------------+-----------------------+\n",
            "|ocean_proximity|max(households)|max(population)|max(total_bedrooms)|max(median_income)|max(total_rooms)|max(housing_median_age)|\n",
            "+---------------+---------------+---------------+-------------------+------------------+----------------+-----------------------+\n",
            "|         ISLAND|          431.0|         1100.0|              591.0|            3.3906|          2359.0|                   52.0|\n",
            "|     NEAR OCEAN|         4176.0|        12873.0|             4585.0|           15.0001|         30405.0|                   52.0|\n",
            "|       NEAR BAY|         3589.0|         8276.0|             3226.0|           15.0001|         18634.0|                   52.0|\n",
            "|      <1H OCEAN|         6082.0|        35682.0|             6445.0|           15.0001|         37937.0|                   52.0|\n",
            "|         INLAND|         5358.0|        16305.0|             6210.0|           15.0001|         39320.0|                   52.0|\n",
            "+---------------+---------------+---------------+-------------------+------------------+----------------+-----------------------+\n",
            "\n"
          ]
        }
      ]
    },
    {
      "cell_type": "code",
      "source": [
        "# El número total de columnas agrupados por ocean_proximity\n",
        "df.groupby('ocean_proximity').agg(count(\"*\").alias(\"count\")).show()"
      ],
      "metadata": {
        "id": "BK2kL1Io-HI1",
        "colab": {
          "base_uri": "https://localhost:8080/"
        },
        "outputId": "a5cc85f5-1f69-402b-ba92-4cc23ea520a9"
      },
      "execution_count": null,
      "outputs": [
        {
          "output_type": "stream",
          "name": "stdout",
          "text": [
            "+---------------+-----+\n",
            "|ocean_proximity|count|\n",
            "+---------------+-----+\n",
            "|         ISLAND|    5|\n",
            "|     NEAR OCEAN| 2658|\n",
            "|       NEAR BAY| 2290|\n",
            "|      <1H OCEAN| 9136|\n",
            "|         INLAND| 6551|\n",
            "+---------------+-----+\n",
            "\n"
          ]
        }
      ]
    },
    {
      "cell_type": "code",
      "source": [
        "# Dividir los datos para entrenamiento y testeo\n",
        "train, test = df.randomSplit([0.7, 0.3])\n",
        "\n",
        "train, test"
      ],
      "metadata": {
        "id": "gn8tyVqYFgZ5",
        "colab": {
          "base_uri": "https://localhost:8080/"
        },
        "outputId": "33359116-be31-4747-cf02-95465beabecb"
      },
      "execution_count": null,
      "outputs": [
        {
          "output_type": "execute_result",
          "data": {
            "text/plain": [
              "(DataFrame[id: bigint, longitude: double, latitude: double, housing_median_age: double, total_rooms: double, total_bedrooms: double, population: double, households: double, median_income: double, median_house_value: double, ocean_proximity: string],\n",
              " DataFrame[id: bigint, longitude: double, latitude: double, housing_median_age: double, total_rooms: double, total_bedrooms: double, population: double, households: double, median_income: double, median_house_value: double, ocean_proximity: string])"
            ]
          },
          "metadata": {},
          "execution_count": 68
        }
      ]
    },
    {
      "cell_type": "code",
      "source": [
        "# Asignar las columnas del Data de entrenamiento a numerical_features_lst_train\n",
        "numerical_features_lst_train = train.columns\n",
        "\n",
        "# Eliminar las columnas irrelevantes\n",
        "numerical_features_lst_train.remove('median_house_value')\n",
        "numerical_features_lst_train.remove('id')\n",
        "numerical_features_lst_train.remove('ocean_proximity')\n",
        "\n",
        "# Columnas finales\n",
        "numerical_features_lst_train"
      ],
      "metadata": {
        "id": "ZgycMxOTFuEe",
        "colab": {
          "base_uri": "https://localhost:8080/"
        },
        "outputId": "7ef383c9-17d7-4e0a-cd5b-666a7865ff19"
      },
      "execution_count": null,
      "outputs": [
        {
          "output_type": "execute_result",
          "data": {
            "text/plain": [
              "['longitude',\n",
              " 'latitude',\n",
              " 'housing_median_age',\n",
              " 'total_rooms',\n",
              " 'total_bedrooms',\n",
              " 'population',\n",
              " 'households',\n",
              " 'median_income']"
            ]
          },
          "metadata": {},
          "execution_count": 69
        }
      ]
    },
    {
      "cell_type": "code",
      "source": [
        "# Importar el Imputador de PySpark\n",
        "from pyspark.ml.feature import Imputer\n",
        "\n",
        "# Crear la instancia Imputer\n",
        "imputer = Imputer(inputCols=numerical_features_lst_train, outputCols=numerical_features_lst_train) # inputCols -> Columnas a procesar     outputCols -> Columnas de salida\n",
        "\n",
        "# Aprender los valores que deben ser utilizados para remplazar los calores faltantes\n",
        "imputer = imputer.fit(train)\n",
        "\n",
        "# Aplicar el imputador al conjunto de entrenamiento y testeo\n",
        "train = imputer.transform(train)\n",
        "test = imputer.transform(test)\n",
        "\n",
        "# Visualizar las primeras 3 primeras filas del DataFrame\n",
        "train.show(3)"
      ],
      "metadata": {
        "id": "o5fTuzpSGPgx",
        "colab": {
          "base_uri": "https://localhost:8080/"
        },
        "outputId": "41b11d59-9c26-4e6b-bcf6-22732e78ed6b"
      },
      "execution_count": null,
      "outputs": [
        {
          "output_type": "stream",
          "name": "stdout",
          "text": [
            "+---+---------+--------+------------------+-----------+--------------+----------+----------+-------------+------------------+---------------+\n",
            "| id|longitude|latitude|housing_median_age|total_rooms|total_bedrooms|population|households|median_income|median_house_value|ocean_proximity|\n",
            "+---+---------+--------+------------------+-----------+--------------+----------+----------+-------------+------------------+---------------+\n",
            "|  1|  -122.22|   37.86|              21.0|     7099.0|        1106.0|    2401.0|    1138.0|       8.3014|          358500.0|       NEAR BAY|\n",
            "|  3|  -122.25|   37.85|              52.0|     1274.0|         235.0|     558.0|     219.0|       5.6431|          341300.0|       NEAR BAY|\n",
            "|  6|  -122.25|   37.84|              52.0|     2535.0|         489.0|    1094.0|     514.0|       3.6591|          299200.0|       NEAR BAY|\n",
            "+---+---------+--------+------------------+-----------+--------------+----------+----------+-------------+------------------+---------------+\n",
            "only showing top 3 rows\n",
            "\n"
          ]
        }
      ]
    },
    {
      "cell_type": "code",
      "source": [
        "# Importar VectorAssembler de PySpark\n",
        "from pyspark.ml.feature import VectorAssembler\n",
        "\n",
        "# Crear la instancia VectorAssembler\n",
        "numerical_vector_assembler = VectorAssembler(inputCols=numerical_features_lst_train, outputCol='numerical_feature_vector') # inputCols -> Columnas a procesar     outputCols -> Nueva columna de salida que contiene los vectores de las características numéricas.\n",
        "\n",
        "# Aplicar el imputador al conjunto de entrenamiento y testeo\n",
        "train = numerical_vector_assembler.transform(train)\n",
        "test = numerical_vector_assembler.transform(test)\n",
        "\n",
        "train.show(2)"
      ],
      "metadata": {
        "id": "Cv4hRLPpGw_5",
        "colab": {
          "base_uri": "https://localhost:8080/"
        },
        "outputId": "1ce443a8-0fd0-4e95-b5f2-324e17ec5ef7"
      },
      "execution_count": null,
      "outputs": [
        {
          "output_type": "stream",
          "name": "stdout",
          "text": [
            "+---+---------+--------+------------------+-----------+--------------+----------+----------+-------------+------------------+---------------+------------------------+\n",
            "| id|longitude|latitude|housing_median_age|total_rooms|total_bedrooms|population|households|median_income|median_house_value|ocean_proximity|numerical_feature_vector|\n",
            "+---+---------+--------+------------------+-----------+--------------+----------+----------+-------------+------------------+---------------+------------------------+\n",
            "|  1|  -122.22|   37.86|              21.0|     7099.0|        1106.0|    2401.0|    1138.0|       8.3014|          358500.0|       NEAR BAY|    [-122.22,37.86,21...|\n",
            "|  3|  -122.25|   37.85|              52.0|     1274.0|         235.0|     558.0|     219.0|       5.6431|          341300.0|       NEAR BAY|    [-122.25,37.85,52...|\n",
            "+---+---------+--------+------------------+-----------+--------------+----------+----------+-------------+------------------+---------------+------------------------+\n",
            "only showing top 2 rows\n",
            "\n"
          ]
        }
      ]
    },
    {
      "cell_type": "code",
      "source": [
        "# Mostar las 2 primeras filas de la columna numerical_feature_vector en forma de lista (train)\n",
        "train.select('numerical_feature_vector').take(2)"
      ],
      "metadata": {
        "id": "ScZDxAyEHoYc",
        "colab": {
          "base_uri": "https://localhost:8080/"
        },
        "outputId": "76bfeba8-fa28-4103-8470-796970cee147"
      },
      "execution_count": null,
      "outputs": [
        {
          "output_type": "execute_result",
          "data": {
            "text/plain": [
              "[Row(numerical_feature_vector=DenseVector([-122.22, 37.86, 21.0, 7099.0, 1106.0, 2401.0, 1138.0, 8.3014])),\n",
              " Row(numerical_feature_vector=DenseVector([-122.25, 37.85, 52.0, 1274.0, 235.0, 558.0, 219.0, 5.6431]))]"
            ]
          },
          "metadata": {},
          "execution_count": 72
        }
      ]
    },
    {
      "cell_type": "code",
      "source": [
        "# Importar StandardScaler de PySpark\n",
        "from pyspark.ml.feature import StandardScaler\n",
        "\n",
        "# Crear la instancia StandardScaler\n",
        "scaler = StandardScaler(inputCol='numerical_feature_vector',outputCol='scaled_numerical_feature_vector',withStd=True, withMean=True) # inputCols -> Columna a procesar     outputCols -> Nueva columna de salida que contiene los vectores de características estandarizados.\n",
        "\n",
        "# Calcula la media y la desviación estándar de cada característica en la columna\n",
        "scaler = scaler.fit(train)\n",
        "\n",
        "# Aplicar scaler al conjunto de entrenamiento y testeo\n",
        "train = scaler.transform(train)\n",
        "test = scaler.transform(test)\n",
        "\n",
        "# Visualizar las primeras 3 primeras filas del DataFrame\n",
        "train.show(3)"
      ],
      "metadata": {
        "id": "X2pr4JESIgMU",
        "colab": {
          "base_uri": "https://localhost:8080/"
        },
        "outputId": "7276c6bb-ba37-4537-dbe1-4907c435fee3"
      },
      "execution_count": null,
      "outputs": [
        {
          "output_type": "stream",
          "name": "stdout",
          "text": [
            "+---+---------+--------+------------------+-----------+--------------+----------+----------+-------------+------------------+---------------+------------------------+-------------------------------+\n",
            "| id|longitude|latitude|housing_median_age|total_rooms|total_bedrooms|population|households|median_income|median_house_value|ocean_proximity|numerical_feature_vector|scaled_numerical_feature_vector|\n",
            "+---+---------+--------+------------------+-----------+--------------+----------+----------+-------------+------------------+---------------+------------------------+-------------------------------+\n",
            "|  1|  -122.22|   37.86|              21.0|     7099.0|        1106.0|    2401.0|    1138.0|       8.3014|          358500.0|       NEAR BAY|    [-122.22,37.86,21...|           [-1.3273303543486...|\n",
            "|  3|  -122.25|   37.85|              52.0|     1274.0|         235.0|     558.0|     219.0|       5.6431|          341300.0|       NEAR BAY|    [-122.25,37.85,52...|           [-1.3423140725279...|\n",
            "|  6|  -122.25|   37.84|              52.0|     2535.0|         489.0|    1094.0|     514.0|       3.6591|          299200.0|       NEAR BAY|    [-122.25,37.84,52...|           [-1.3423140725279...|\n",
            "+---+---------+--------+------------------+-----------+--------------+----------+----------+-------------+------------------+---------------+------------------------+-------------------------------+\n",
            "only showing top 3 rows\n",
            "\n"
          ]
        }
      ]
    },
    {
      "cell_type": "code",
      "source": [
        "# Mostar las 3 primeras filas de la columna scaled_numerical_feature_vector en forma de lista (train)\n",
        "train.select('scaled_numerical_feature_vector').take(3)"
      ],
      "metadata": {
        "id": "5QRcuaj8Jhd3",
        "colab": {
          "base_uri": "https://localhost:8080/"
        },
        "outputId": "39d0891c-3e92-4c5e-8877-72b1abeaf754"
      },
      "execution_count": null,
      "outputs": [
        {
          "output_type": "execute_result",
          "data": {
            "text/plain": [
              "[Row(scaled_numerical_feature_vector=DenseVector([-1.3273, 1.0479, -0.601, 2.0658, 1.3462, 0.8511, 1.6582, 2.3439])),\n",
              " Row(scaled_numerical_feature_vector=DenseVector([-1.3423, 1.0433, 1.8683, -0.6296, -0.7234, -0.7669, -0.7344, 0.9386])),\n",
              " Row(scaled_numerical_feature_vector=DenseVector([-1.3423, 1.0386, 1.8683, -0.0461, -0.1199, -0.2963, 0.0337, -0.1103]))]"
            ]
          },
          "metadata": {},
          "execution_count": 74
        }
      ]
    },
    {
      "cell_type": "code",
      "source": [
        "# Importar StringIndexer de PySpark\n",
        "from pyspark.ml.feature import StringIndexer\n",
        "\n",
        "# Crear la instancia StringIndexer\n",
        "indexer = StringIndexer(inputCol='ocean_proximity',outputCol='ocean_category_index') # inputCols -> Columna a procesar     outputCols -> Nueva columna de salida que contiene los índices numéricos correspondientes a ocean_proximity\n",
        "\n",
        "# Determinar los indices para ocean_proximity\n",
        "indexer = indexer.fit(train)\n",
        "\n",
        "# Aplicar indexer al conjunto de entrenamiento y testeo\n",
        "train = indexer.transform(train)\n",
        "test = indexer.transform(test)\n",
        "\n",
        "# Visualizar las primeras 3 primeras filas del DataFrame\n",
        "train.show(3)"
      ],
      "metadata": {
        "id": "hJbkKIZAJqud",
        "colab": {
          "base_uri": "https://localhost:8080/"
        },
        "outputId": "fadab25b-346c-4c32-ecda-15be0c59c762"
      },
      "execution_count": null,
      "outputs": [
        {
          "output_type": "stream",
          "name": "stdout",
          "text": [
            "+---+---------+--------+------------------+-----------+--------------+----------+----------+-------------+------------------+---------------+------------------------+-------------------------------+--------------------+\n",
            "| id|longitude|latitude|housing_median_age|total_rooms|total_bedrooms|population|households|median_income|median_house_value|ocean_proximity|numerical_feature_vector|scaled_numerical_feature_vector|ocean_category_index|\n",
            "+---+---------+--------+------------------+-----------+--------------+----------+----------+-------------+------------------+---------------+------------------------+-------------------------------+--------------------+\n",
            "|  1|  -122.22|   37.86|              21.0|     7099.0|        1106.0|    2401.0|    1138.0|       8.3014|          358500.0|       NEAR BAY|    [-122.22,37.86,21...|           [-1.3273303543486...|                 3.0|\n",
            "|  3|  -122.25|   37.85|              52.0|     1274.0|         235.0|     558.0|     219.0|       5.6431|          341300.0|       NEAR BAY|    [-122.25,37.85,52...|           [-1.3423140725279...|                 3.0|\n",
            "|  6|  -122.25|   37.84|              52.0|     2535.0|         489.0|    1094.0|     514.0|       3.6591|          299200.0|       NEAR BAY|    [-122.25,37.84,52...|           [-1.3423140725279...|                 3.0|\n",
            "+---+---------+--------+------------------+-----------+--------------+----------+----------+-------------+------------------+---------------+------------------------+-------------------------------+--------------------+\n",
            "only showing top 3 rows\n",
            "\n"
          ]
        }
      ]
    },
    {
      "cell_type": "code",
      "source": [
        "# Obtener los valores unicos de ocean_category_index\n",
        "set(train.select('ocean_category_index').collect())"
      ],
      "metadata": {
        "id": "dtm9uolJKK_-",
        "colab": {
          "base_uri": "https://localhost:8080/"
        },
        "outputId": "c6f73858-32fc-4edc-9b5f-7d6814ae4cd7"
      },
      "execution_count": null,
      "outputs": [
        {
          "output_type": "execute_result",
          "data": {
            "text/plain": [
              "{Row(ocean_category_index=0.0),\n",
              " Row(ocean_category_index=1.0),\n",
              " Row(ocean_category_index=2.0),\n",
              " Row(ocean_category_index=3.0),\n",
              " Row(ocean_category_index=4.0)}"
            ]
          },
          "metadata": {},
          "execution_count": 76
        }
      ]
    },
    {
      "cell_type": "code",
      "source": [
        "# Importar OneHotEncoder de PySpark\n",
        "from pyspark.ml.feature import OneHotEncoder\n",
        "\n",
        "# Crear la instancia OneHotEncoder\n",
        "one_hot_encoder = OneHotEncoder(inputCol='ocean_category_index', outputCol='ocean_category_one_hot') # inputCols -> Columna a procesar     outputCols -> Nueva columna que almacenará EL vector categorico\n",
        "\n",
        "# Identificar el número de categorías únicas en la columna 'ocean_category_index'\n",
        "one_hot_encoder = one_hot_encoder.fit(train)\n",
        "\n",
        "# Aplicar one_hot_encoder al conjunto de entrenamiento y testeo\n",
        "train = one_hot_encoder.transform(train)\n",
        "test = one_hot_encoder.transform(test)\n",
        "\n",
        "# Visualizar las primeras 3 primeras filas del DataFrame\n",
        "train.show(3)"
      ],
      "metadata": {
        "id": "x53c7cDJKXo4",
        "colab": {
          "base_uri": "https://localhost:8080/"
        },
        "outputId": "a85301d2-5224-46d0-b98f-83b04f9352ab"
      },
      "execution_count": null,
      "outputs": [
        {
          "output_type": "stream",
          "name": "stdout",
          "text": [
            "+---+---------+--------+------------------+-----------+--------------+----------+----------+-------------+------------------+---------------+------------------------+-------------------------------+--------------------+----------------------+\n",
            "| id|longitude|latitude|housing_median_age|total_rooms|total_bedrooms|population|households|median_income|median_house_value|ocean_proximity|numerical_feature_vector|scaled_numerical_feature_vector|ocean_category_index|ocean_category_one_hot|\n",
            "+---+---------+--------+------------------+-----------+--------------+----------+----------+-------------+------------------+---------------+------------------------+-------------------------------+--------------------+----------------------+\n",
            "|  1|  -122.22|   37.86|              21.0|     7099.0|        1106.0|    2401.0|    1138.0|       8.3014|          358500.0|       NEAR BAY|    [-122.22,37.86,21...|           [-1.3273303543486...|                 3.0|         (4,[3],[1.0])|\n",
            "|  3|  -122.25|   37.85|              52.0|     1274.0|         235.0|     558.0|     219.0|       5.6431|          341300.0|       NEAR BAY|    [-122.25,37.85,52...|           [-1.3423140725279...|                 3.0|         (4,[3],[1.0])|\n",
            "|  6|  -122.25|   37.84|              52.0|     2535.0|         489.0|    1094.0|     514.0|       3.6591|          299200.0|       NEAR BAY|    [-122.25,37.84,52...|           [-1.3423140725279...|                 3.0|         (4,[3],[1.0])|\n",
            "+---+---------+--------+------------------+-----------+--------------+----------+----------+-------------+------------------+---------------+------------------------+-------------------------------+--------------------+----------------------+\n",
            "only showing top 3 rows\n",
            "\n"
          ]
        }
      ]
    },
    {
      "cell_type": "code",
      "source": [
        "# Crear la instancia VectorAssembler\n",
        "assembler = VectorAssembler(inputCols=['scaled_numerical_feature_vector', 'ocean_category_one_hot'], outputCol='final_feature_vector') # inputCols -> Columnas a procesar     outputCols -> Nueva columna que almacenará el vector combinado de características\n",
        "\n",
        "# Aplicar VectorAssembler al conjunto de entrenamiento y testeo\n",
        "train = assembler.transform(train)\n",
        "test = assembler.transform(test)"
      ],
      "metadata": {
        "id": "DcGu4nVvKyC2"
      },
      "execution_count": null,
      "outputs": []
    },
    {
      "cell_type": "code",
      "source": [
        "# Visualizar las primeras 2 primeras filas del DataFrame\n",
        "train.show(2)"
      ],
      "metadata": {
        "id": "X820BpH7Ld2V",
        "colab": {
          "base_uri": "https://localhost:8080/"
        },
        "outputId": "c8cfecd0-984d-4895-9415-2c151fa5bd4a"
      },
      "execution_count": null,
      "outputs": [
        {
          "output_type": "stream",
          "name": "stdout",
          "text": [
            "+---+---------+--------+------------------+-----------+--------------+----------+----------+-------------+------------------+---------------+------------------------+-------------------------------+--------------------+----------------------+--------------------+\n",
            "| id|longitude|latitude|housing_median_age|total_rooms|total_bedrooms|population|households|median_income|median_house_value|ocean_proximity|numerical_feature_vector|scaled_numerical_feature_vector|ocean_category_index|ocean_category_one_hot|final_feature_vector|\n",
            "+---+---------+--------+------------------+-----------+--------------+----------+----------+-------------+------------------+---------------+------------------------+-------------------------------+--------------------+----------------------+--------------------+\n",
            "|  1|  -122.22|   37.86|              21.0|     7099.0|        1106.0|    2401.0|    1138.0|       8.3014|          358500.0|       NEAR BAY|    [-122.22,37.86,21...|           [-1.3273303543486...|                 3.0|         (4,[3],[1.0])|[-1.3273303543486...|\n",
            "|  3|  -122.25|   37.85|              52.0|     1274.0|         235.0|     558.0|     219.0|       5.6431|          341300.0|       NEAR BAY|    [-122.25,37.85,52...|           [-1.3423140725279...|                 3.0|         (4,[3],[1.0])|[-1.3423140725279...|\n",
            "+---+---------+--------+------------------+-----------+--------------+----------+----------+-------------+------------------+---------------+------------------------+-------------------------------+--------------------+----------------------+--------------------+\n",
            "only showing top 2 rows\n",
            "\n"
          ]
        }
      ]
    },
    {
      "cell_type": "code",
      "source": [
        "# Mostar las 2 primeras filas de la columna final_feature_vector en forma de lista (train)\n",
        "train.select('final_feature_vector').take(2)"
      ],
      "metadata": {
        "id": "xe9f0T9iLfH7",
        "colab": {
          "base_uri": "https://localhost:8080/"
        },
        "outputId": "cc08e5ba-cfef-4f7c-fd08-c553c8551e97"
      },
      "execution_count": null,
      "outputs": [
        {
          "output_type": "execute_result",
          "data": {
            "text/plain": [
              "[Row(final_feature_vector=DenseVector([-1.3273, 1.0479, -0.601, 2.0658, 1.3462, 0.8511, 1.6582, 2.3439, 0.0, 0.0, 0.0, 1.0])),\n",
              " Row(final_feature_vector=DenseVector([-1.3423, 1.0433, 1.8683, -0.6296, -0.7234, -0.7669, -0.7344, 0.9386, 0.0, 0.0, 0.0, 1.0]))]"
            ]
          },
          "metadata": {},
          "execution_count": 80
        }
      ]
    },
    {
      "cell_type": "code",
      "source": [
        "# Importar LinearRegression de PySpark\n",
        "from pyspark.ml.regression import LinearRegression\n",
        "\n",
        "# Crear la instancia LinearRegression\n",
        "lr = LinearRegression(featuresCol='final_feature_vector', labelCol='median_house_value')  # featuresCol -> Columna que contiene las caracteristicas     labelCol -> la variable objetivo\n",
        "\n",
        "lr"
      ],
      "metadata": {
        "id": "b3dXB7opLp4_",
        "colab": {
          "base_uri": "https://localhost:8080/"
        },
        "outputId": "a1c6bdcb-9307-4df5-f461-26b96ac380a4"
      },
      "execution_count": null,
      "outputs": [
        {
          "output_type": "execute_result",
          "data": {
            "text/plain": [
              "LinearRegression_282f6fa59545"
            ]
          },
          "metadata": {},
          "execution_count": 81
        }
      ]
    },
    {
      "cell_type": "code",
      "source": [
        "# Entrenar el modelo de regresión con el conjunto de datos train\n",
        "lr = lr.fit(train)\n",
        "\n",
        "lr"
      ],
      "metadata": {
        "id": "84pkIiegMTrh",
        "colab": {
          "base_uri": "https://localhost:8080/"
        },
        "outputId": "328283da-b112-4c80-d184-67c0e7358e9e"
      },
      "execution_count": null,
      "outputs": [
        {
          "output_type": "execute_result",
          "data": {
            "text/plain": [
              "LinearRegressionModel: uid=LinearRegression_282f6fa59545, numFeatures=12"
            ]
          },
          "metadata": {},
          "execution_count": 82
        }
      ]
    },
    {
      "cell_type": "code",
      "source": [
        "# Aplicar modelo de regresión lineal entrenado al conjunto de datos de entrenamiento y luego renombrando la columna de predicciones\n",
        "pred_train_df = lr.transform(train).withColumnRenamed('prediction', 'predicted_median_house_value')\n",
        "\n",
        "# Visualizar las primeras 5 primeras filas del DataFrame pred_train_df\n",
        "pred_train_df.show(5)"
      ],
      "metadata": {
        "id": "R2yJe24jMfST",
        "colab": {
          "base_uri": "https://localhost:8080/"
        },
        "outputId": "1c3300ba-74af-49dd-fe28-63fd8b8aeb0d"
      },
      "execution_count": null,
      "outputs": [
        {
          "output_type": "stream",
          "name": "stdout",
          "text": [
            "+---+---------+--------+------------------+-----------+--------------+----------+----------+-------------+------------------+---------------+------------------------+-------------------------------+--------------------+----------------------+--------------------+----------------------------+\n",
            "| id|longitude|latitude|housing_median_age|total_rooms|total_bedrooms|population|households|median_income|median_house_value|ocean_proximity|numerical_feature_vector|scaled_numerical_feature_vector|ocean_category_index|ocean_category_one_hot|final_feature_vector|predicted_median_house_value|\n",
            "+---+---------+--------+------------------+-----------+--------------+----------+----------+-------------+------------------+---------------+------------------------+-------------------------------+--------------------+----------------------+--------------------+----------------------------+\n",
            "|  1|  -122.22|   37.86|              21.0|     7099.0|        1106.0|    2401.0|    1138.0|       8.3014|          358500.0|       NEAR BAY|    [-122.22,37.86,21...|           [-1.3273303543486...|                 3.0|         (4,[3],[1.0])|[-1.3273303543486...|          423423.26987710904|\n",
            "|  3|  -122.25|   37.85|              52.0|     1274.0|         235.0|     558.0|     219.0|       5.6431|          341300.0|       NEAR BAY|    [-122.25,37.85,52...|           [-1.3423140725279...|                 3.0|         (4,[3],[1.0])|[-1.3423140725279...|           320861.8187641952|\n",
            "|  6|  -122.25|   37.84|              52.0|     2535.0|         489.0|    1094.0|     514.0|       3.6591|          299200.0|       NEAR BAY|    [-122.25,37.84,52...|           [-1.3423140725279...|                 3.0|         (4,[3],[1.0])|[-1.3423140725279...|          259190.87098527397|\n",
            "|  7|  -122.25|   37.84|              52.0|     3104.0|         687.0|    1157.0|     647.0|         3.12|          241400.0|       NEAR BAY|    [-122.25,37.84,52...|           [-1.3423140725279...|                 3.0|         (4,[3],[1.0])|[-1.3423140725279...|          257233.77681875305|\n",
            "| 10|  -122.26|   37.85|              52.0|     2202.0|         434.0|     910.0|     402.0|       3.2031|          281500.0|       NEAR BAY|    [-122.26,37.85,52...|           [-1.3473086452544...|                 3.0|         (4,[3],[1.0])|[-1.3473086452544...|          238041.49606530962|\n",
            "+---+---------+--------+------------------+-----------+--------------+----------+----------+-------------+------------------+---------------+------------------------+-------------------------------+--------------------+----------------------+--------------------+----------------------------+\n",
            "only showing top 5 rows\n",
            "\n"
          ]
        }
      ]
    },
    {
      "cell_type": "code",
      "source": [
        "# Aplicar modelo de regresión lineal entrenado al conjunto de datos de testeo y luego renombrando la columna de predicciones\n",
        "pred_test_df = lr.transform(test).withColumnRenamed('prediction', 'predicted_median_house_value')\n",
        "\n",
        "# Visualizar las primeras 5 primeras filas del DataFrame pred_test_df\n",
        "pred_test_df.show(5)"
      ],
      "metadata": {
        "id": "DwaLPbYsM1yI"
      },
      "execution_count": null,
      "outputs": []
    },
    {
      "cell_type": "code",
      "source": [
        "# Convertir el DataFrame de PySpark a un DataFrame de Pandas\n",
        "pred_test_pd_df = pred_test_df.toPandas()\n",
        "\n",
        "# Visualizar las primeras 2 primeras filas del DataFrame pred_test_pd_df\n",
        "pred_test_pd_df.head(2)"
      ],
      "metadata": {
        "id": "DO19rLbsNKjs"
      },
      "execution_count": null,
      "outputs": []
    },
    {
      "cell_type": "code",
      "source": [
        "# Un nuevo DataFrame que solo contenga predicted_median_house_value y median_house_value\n",
        "predictions_and_actuals = pred_test_df[['predicted_median_house_value', 'median_house_value']]\n",
        "\n",
        "# Convierte el DataFrame de PySpark en un RDD\n",
        "predictions_and_actuals_rdd = predictions_and_actuals.rdd\n",
        "\n",
        "# Visualizar los primeros 2 elemetos de predictions_and_actuals_rdd\n",
        "predictions_and_actuals_rdd.take(2)"
      ],
      "metadata": {
        "id": "LpCXSIABNc_X",
        "colab": {
          "base_uri": "https://localhost:8080/"
        },
        "outputId": "d830d959-bd9a-484a-84ff-34a780c6018f"
      },
      "execution_count": null,
      "outputs": [
        {
          "output_type": "execute_result",
          "data": {
            "text/plain": [
              "[Row(predicted_median_house_value=406873.1620247062, median_house_value=452600.0),\n",
              " Row(predicted_median_house_value=377761.12949848734, median_house_value=352100.0)]"
            ]
          },
          "metadata": {},
          "execution_count": 86
        }
      ]
    },
    {
      "cell_type": "code",
      "source": [
        "# Convertir cada fila a una tupla\n",
        "predictions_and_actuals_rdd = predictions_and_actuals_rdd.map(tuple)\n",
        "\n",
        "# Visualizar los primeros 2 elemetos de predictions_and_actuals_rdd\n",
        "predictions_and_actuals_rdd.take(2)"
      ],
      "metadata": {
        "id": "Okh7NLmoN65G",
        "colab": {
          "base_uri": "https://localhost:8080/"
        },
        "outputId": "a09d31b7-838a-4bfd-e00a-d253785bf306"
      },
      "execution_count": null,
      "outputs": [
        {
          "output_type": "execute_result",
          "data": {
            "text/plain": [
              "[(406873.1620247062, 452600.0), (377761.12949848734, 352100.0)]"
            ]
          },
          "metadata": {},
          "execution_count": 87
        }
      ]
    },
    {
      "cell_type": "code",
      "source": [
        "# Importar RegressionMetrics de PySpark\n",
        "from pyspark.mllib.evaluation import RegressionMetrics\n",
        "\n",
        "# Crear la instancia RegressionMetrics\n",
        "metrics = RegressionMetrics(predictions_and_actuals_rdd)\n",
        "\n",
        "# MSE (Error cuadratico medio), RMSE (Raiz del error cuadratico medio), MAE (Valor absoluto de errores), R^2 (Coeficiente de Determinación)\n",
        "s = '''\n",
        "Mean Squared Error:      {0}\n",
        "Root Mean Squared Error: {1}\n",
        "Mean Absolute Error:     {2}\n",
        "R**2:                    {3}\n",
        "'''.format(metrics.meanSquaredError,\n",
        "           metrics.rootMeanSquaredError,\n",
        "           metrics.meanAbsoluteError,\n",
        "           metrics.r2\n",
        "           )\n",
        "\n",
        "print(s)"
      ],
      "metadata": {
        "id": "7mq4WdN1OEil",
        "colab": {
          "base_uri": "https://localhost:8080/"
        },
        "outputId": "7aa8caf0-7691-4b8f-ffa2-345091643c4e"
      },
      "execution_count": null,
      "outputs": [
        {
          "output_type": "stream",
          "name": "stderr",
          "text": [
            "/usr/local/lib/python3.10/dist-packages/pyspark/sql/context.py:158: FutureWarning: Deprecated in 3.0.0. Use SparkSession.builder.getOrCreate() instead.\n",
            "  warnings.warn(\n"
          ]
        },
        {
          "output_type": "stream",
          "name": "stdout",
          "text": [
            "\n",
            "Mean Squared Error:      4772429552.793096\n",
            "Root Mean Squared Error: 69082.7731984834\n",
            "Mean Absolute Error:     50406.46319911228\n",
            "R**2:                    0.6512778286155831\n",
            "\n"
          ]
        }
      ]
    }
  ]
}